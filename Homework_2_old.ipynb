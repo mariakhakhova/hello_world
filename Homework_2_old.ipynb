{
 "cells": [
  {
   "cell_type": "code",
   "execution_count": 278,
   "metadata": {},
   "outputs": [
    {
     "name": "stdout",
     "output_type": "stream",
     "text": [
      "[[0.79753217 0.11259759 0.94842437]\n",
      " [0.96335303 0.50849952 0.17400373]\n",
      " [0.59817725 0.29487956 0.99596659]\n",
      " [0.76124142 0.26423692 0.93913676]\n",
      " [0.0949778  0.87765772 0.79485031]\n",
      " [0.96332807 0.1094075  0.08005981]\n",
      " [0.14225337 0.94856129 0.73611553]\n",
      " [0.24918884 0.05243671 0.03410566]\n",
      " [0.18214348 0.33230212 0.43039794]\n",
      " [0.05998848 0.25608963 0.56570446]]\n",
      "0.7975321709411087\n",
      "0.5084995161619844\n",
      "0.598177250746652\n",
      "0.26423691869281984\n",
      "0.7948503110467985\n",
      "0.10940750465210336\n",
      "0.7361155304286658\n",
      "0.24918884404930342\n",
      "0.43039793590499476\n",
      "0.5657044641248453\n"
     ]
    }
   ],
   "source": [
    "import numpy as np\n",
    "import numpy.random as rand\n",
    "\n",
    "a = rand.sample((10,3))\n",
    "print(a)\n",
    "index = (np.abs(a - 0.5)).argmin(axis = 1)\n",
    "i = 0\n",
    "while i < 10:\n",
    "    print(a[i][index[i]])\n",
    "    i += 1\n"
   ]
  },
  {
   "cell_type": "code",
   "execution_count": 233,
   "metadata": {},
   "outputs": [
    {
     "name": "stdout",
     "output_type": "stream",
     "text": [
      "[[1.79066123 5.56190026 0.27243231 3.89150213 6.30162276 2.75300496]\n",
      " [8.70133664 2.48100457 9.06372793 8.67958962 5.91899416 7.65349005]\n",
      " [7.71336739 3.88713821 1.47859349 3.37173128 9.57770335 4.33816901]\n",
      " [8.15519093 6.60653916 6.70040854 5.81339284 7.19702876 4.7085827 ]\n",
      " [7.371611   7.57593478 9.02519194 0.53902913 8.1133753  0.05946175]\n",
      " [9.55630284 1.30974392 4.2820003  8.47548667 3.21554942 0.04144169]]\n",
      "\n",
      " 11.488004138187577\n",
      "\n",
      " 32.44767339767445\n",
      "\n",
      " 111.46512916842241\n",
      "\n",
      " 72.68835852399329\n",
      "\n",
      " 10.164547205424093\n",
      "\n",
      " 648.6348773610966\n"
     ]
    }
   ],
   "source": [
    "import numpy as np\n",
    "\n",
    "a = np.random.random((6,6))*10\n",
    "print(a)\n",
    "index = a.argmin(axis = 0)\n",
    "i = 0\n",
    "while i < 6:\n",
    "    print(\"\\n\",np.sum(a[i])/a[index[i]][i])\n",
    "    i += 1\n",
    "    \n"
   ]
  },
  {
   "cell_type": "code",
   "execution_count": 276,
   "metadata": {},
   "outputs": [
    {
     "name": "stdout",
     "output_type": "stream",
     "text": [
      "5\n"
     ]
    }
   ],
   "source": [
    "import numpy as np\n",
    "\n",
    "x = np.array([6, 2, 0, 3, 0, 0, 5, 7, 0])\n",
    "len = x.shape[0]\n",
    "x = x.tolist()\n",
    "i = 0\n",
    "max = 0\n",
    "while i < len:\n",
    "    try:\n",
    "        i = x.index(0, i, len) + 1\n",
    "    except:\n",
    "        break\n",
    "    if i == len :\n",
    "        break\n",
    "    if max < x[i]: \n",
    "        max = x[i]\n",
    "print(max)        \n",
    "\n",
    "\n",
    "        \n",
    "    \n"
   ]
  },
  {
   "cell_type": "code",
   "execution_count": 281,
   "metadata": {},
   "outputs": [
    {
     "name": "stdout",
     "output_type": "stream",
     "text": [
      "[1. 1. 1. 1. 1. 1. 1. 1. 1. 1.]\n",
      "[2. 2. 2. 2. 1. 4. 1. 1. 2. 1.]\n"
     ]
    }
   ],
   "source": [
    "import numpy as np\n",
    "\n",
    "x = np.ones(10)\n",
    "print(x)\n",
    "index = np.array([0, 1, 2, 3, 5, 5, 5, 8])\n",
    "j = 0\n",
    "while j < 8:\n",
    "    x[index[j]] += 1\n",
    "    j += 1\n",
    "print(x)\n",
    "\n",
    "    \n",
    "    \n",
    "    \n"
   ]
  },
  {
   "cell_type": "code",
   "execution_count": 286,
   "metadata": {},
   "outputs": [
    {
     "name": "stdout",
     "output_type": "stream",
     "text": [
      "{0: [0], 1: [1, 10], 2: [2, 11, 20], 3: [3, 12, 21, 30], 4: [4, 13, 22, 31, 40], 5: [5, 14, 23, 32, 41, 50], 6: [6, 15, 24, 33, 42, 51, 60], 7: [7, 16, 25, 34, 43, 52, 61, 70], 8: [8, 17, 26, 35, 44, 53, 62, 71, 80], 9: [9, 18, 27, 36, 45, 54, 63, 72, 81, 90], 10: [19, 28, 37, 46, 55, 64, 73, 82, 91], 11: [29, 38, 47, 56, 65, 74, 83, 92], 12: [39, 48, 57, 66, 75, 84, 93], 13: [49, 58, 67, 76, 85, 94], 14: [59, 68, 77, 86, 95], 15: [69, 78, 87, 96], 16: [79, 88, 97], 17: [89, 98], 18: [99]}\n"
     ]
    }
   ],
   "source": [
    "import numpy as np\n",
    "\n",
    "N = 10\n",
    "a = np.arange(N * N).reshape(N, N)\n",
    "d = {}\n",
    "i = 0\n",
    "while i < 2*N - 1:\n",
    "    d[i] = []\n",
    "    i += 1\n",
    "i = 0\n",
    "while i < N:\n",
    "    j = 0\n",
    "    while j < N:\n",
    "        d.get(i + j).append(a[i][j])\n",
    "        j += 1\n",
    "    i += 1\n",
    "print(d)\n",
    "        \n",
    "    "
   ]
  },
  {
   "cell_type": "code",
   "execution_count": 4,
   "metadata": {},
   "outputs": [
    {
     "name": "stdout",
     "output_type": "stream",
     "text": [
      "Input number of points: 100\n",
      "Deviation :  0.9362163636134978\n"
     ]
    },
    {
     "data": {
      "image/png": "[encoded data removed]",
      "text/plain": [
       "<Figure size 432x288 with 1 Axes>"
      ]
     },
     "metadata": {
      "needs_background": "light"
     },
     "output_type": "display_data"
    }
   ],
   "source": [
    "import numpy as np\n",
    "import matplotlib.pyplot as plt\n",
    "def _kmeans(data, k):\n",
    "    centers = np.random.rand(k,2)\n",
    "    _y =[]\n",
    "    while True:\n",
    "        dist = np.array([[np.linalg.norm(data[i]-centers[j]) for j in range(k)] for i in range(data.shape[0])])\n",
    "        y = np.array([dist[i].argmin() for i in range(data.shape[0])]).reshape(data.shape[0],1)\n",
    "        if (np.array_equal(y,_y)):\n",
    "            break\n",
    "        _y=y\n",
    "        a_x = np.array([np.mean([data[i][0] for i in range(data.shape[0]) if y[i]==j] + [centers[j][0]]) for j in range(k)]).reshape(k,1)\n",
    "        a_y = np.array([np.mean([data[i][1] for i in range(data.shape[0]) if y[i]==j] + [centers[j][1]]) for j in range(k)]).reshape(k,1)\n",
    "        centers = np.array([[a_x[i], a_y[i]] for i in range(k)]).reshape(k,2)\n",
    "    d = 0\n",
    "    for i in range(k):\n",
    "        for j in range(data.shape[0]):\n",
    "            if y[j] == i:\n",
    "                d += np.linalg.norm(centers[i] - data[j])*np.linalg.norm(centers[i] - data[j])\n",
    "    return [d, y]\n",
    "\n",
    "n = int(input(\"Input number of points: \"))\n",
    "k = 15\n",
    "data = np.random.rand(n,2)\n",
    "[d, y] = _kmeans(data, k)\n",
    "print(\"Deviation : \",d)\n",
    "plt.scatter(*data.T, c = y[:,0], s = 10)\n",
    "plt.show()"
   ]
  },
  {
   "cell_type": "code",
   "execution_count": null,
   "metadata": {},
   "outputs": [],
   "source": []
  },
  {
   "cell_type": "code",
   "execution_count": null,
   "metadata": {},
   "outputs": [],
   "source": []
  }
 ],
 "metadata": {
  "kernelspec": {
   "display_name": "Python 3",
   "language": "python",
   "name": "python3"
  },
  "language_info": {
   "codemirror_mode": {
    "name": "ipython",
    "version": 3
   },
   "file_extension": ".py",
   "mimetype": "text/x-python",
   "name": "python",
   "nbconvert_exporter": "python",
   "pygments_lexer": "ipython3",
   "version": "3.7.1"
  }
 },
 "nbformat": 4,
 "nbformat_minor": 2
}
