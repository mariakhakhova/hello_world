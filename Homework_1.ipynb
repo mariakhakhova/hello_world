{
 "cells": [
  {
   "cell_type": "code",
   "execution_count": null,
   "metadata": {},
   "outputs": [],
   "source": [
    "#Birthday Dictionaries\n",
    "\n",
    "birthday_dictionary = {\n",
    "    \"Marilyn Monroe\" : \"1926/6/1\",\n",
    "    \"Steve Jobs\" : \"1955/2/24\",\n",
    "    \"Winston Churchill\" : \"1951/11/26\"\n",
    "}\n",
    "print(\"Welcome to the birthday dictionary. We know the birthdays of:\\n Marilyn Monroe \\n Steve Jobs \\n Winston Churchill \\n\")\n",
    "name = input(\"Who's birthday do you want to look up? \\n\")\n",
    "print(name + \"'s birthday is \" + birthday_dictionary[name])\n"
   ]
  },
  {
   "cell_type": "code",
   "execution_count": null,
   "metadata": {},
   "outputs": [],
   "source": [
    "#Fibonacci\n",
    "\n",
    "n = input(\"How many numbers do you want to generate? \")\n",
    "a = 1\n",
    "b = 1\n",
    "for i in range(int(n)):\n",
    "    print(a)\n",
    "    b += a\n",
    "    a = b - a\n",
    "    \n",
    "    "
   ]
  },
  {
   "cell_type": "code",
   "execution_count": 10,
   "metadata": {},
   "outputs": [
    {
     "name": "stdout",
     "output_type": "stream",
     "text": [
      "Input string : sitg kjl weq ljl\n",
      "ljl weq kjl sitg \n"
     ]
    }
   ],
   "source": [
    "#Reverse Word Order\n",
    "\n",
    "def reverse (string):\n",
    "\n",
    "    splitted_text = string.split()\n",
    "    splitted_text.reverse()\n",
    "    string = \"\"\n",
    "    for word in splitted_text :\n",
    "        string += word + \" \"\n",
    "    return(string)\n",
    "    \n",
    "string = input(\"Input string : \")\n",
    "print(reverse(string))"
   ]
  },
  {
   "cell_type": "code",
   "execution_count": 17,
   "metadata": {},
   "outputs": [
    {
     "name": "stdout",
     "output_type": "stream",
     "text": [
      "YYdi1OB7u1pAG3\n"
     ]
    }
   ],
   "source": [
    "#Password Generator\n",
    "\n",
    "import random as rd\n",
    "\n",
    "password = \"\"\n",
    "lenght = rd.randint(8,16)\n",
    "for i in range(lenght):\n",
    "    case = rd.randint(1,3)\n",
    "    if case == 1 :\n",
    "        password += chr(48 + rd.randint(0,9))\n",
    "    if case == 2 :\n",
    "        password += chr(65 + rd.randint(0,24))\n",
    "    if case == 3 :\n",
    "        password += chr(97 + rd.randint(0,24))\n",
    "print(password)\n",
    "    "
   ]
  },
  {
   "cell_type": "code",
   "execution_count": null,
   "metadata": {},
   "outputs": [],
   "source": []
  }
 ],
 "metadata": {
  "kernelspec": {
   "display_name": "Python 3",
   "language": "python",
   "name": "python3"
  },
  "language_info": {
   "codemirror_mode": {
    "name": "ipython",
    "version": 3
   },
   "file_extension": ".py",
   "mimetype": "text/x-python",
   "name": "python",
   "nbconvert_exporter": "python",
   "pygments_lexer": "ipython3",
   "version": "3.7.1"
  }
 },
 "nbformat": 4,
 "nbformat_minor": 2
}
