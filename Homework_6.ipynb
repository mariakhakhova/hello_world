{
 "cells": [
  {
   "cell_type": "code",
   "execution_count": 80,
   "metadata": {},
   "outputs": [
    {
     "name": "stdout",
     "output_type": "stream",
     "text": [
      "                          precision    recall  f1-score   support\n",
      "\n",
      "             alt.atheism  0.3139013453 0.4388714734 0.3660130719       319\n",
      "           comp.graphics  0.7258485640 0.7146529563 0.7202072539       389\n",
      " comp.os.ms-windows.misc  0.7151515152 0.5989847716 0.6519337017       394\n",
      "comp.sys.ibm.pc.hardware  0.6372093023 0.6989795918 0.6666666667       392\n",
      "   comp.sys.mac.hardware  0.7581521739 0.7246753247 0.7410358566       385\n",
      "          comp.windows.x  0.8157894737 0.7848101266 0.8000000000       395\n",
      "            misc.forsale  0.7513368984 0.7205128205 0.7356020942       390\n",
      "               rec.autos  0.8048780488 0.7500000000 0.7764705882       396\n",
      "         rec.motorcycles  0.8373983740 0.7763819095 0.8057366362       398\n",
      "      rec.sport.baseball  0.9245810056 0.8337531486 0.8768211921       397\n",
      "        rec.sport.hockey  0.8497757848 0.9498746867 0.8970414201       399\n",
      "               sci.crypt  0.7699757869 0.8030303030 0.7861557478       396\n",
      "         sci.electronics  0.7092651757 0.5648854962 0.6288951841       393\n",
      "                 sci.med  0.8107416880 0.8005050505 0.8055908513       396\n",
      "               sci.space  0.7857142857 0.8096446701 0.7975000000       394\n",
      "  soc.religion.christian  0.5648000000 0.8869346734 0.6901270772       398\n",
      "      talk.politics.guns  0.5955555556 0.7362637363 0.6584766585       364\n",
      "   talk.politics.mideast  0.7851851852 0.8457446809 0.8143405890       376\n",
      "      talk.politics.misc  0.6567164179 0.4258064516 0.5166340509       310\n",
      "      talk.religion.misc  0.4800000000 0.1434262948 0.2208588957       251\n",
      "\n",
      "               micro avg  0.7165427509 0.7165427509 0.7165427509      7532\n",
      "               macro avg  0.7145988290 0.7003869083 0.6978053768      7532\n",
      "            weighted avg  0.7241726958 0.7165427509 0.7123371535      7532\n",
      "\n"
     ]
    }
   ],
   "source": [
    "import numpy as np\n",
    "from sklearn.datasets import fetch_20newsgroups\n",
    "from sklearn.feature_extraction.text import TfidfVectorizer\n",
    "from sklearn.naive_bayes import MultinomialNB, BernoulliNB, GaussianNB, ComplementNB\n",
    "from sklearn.feature_extraction.stop_words import ENGLISH_STOP_WORDS\n",
    "from sklearn.metrics import classification_report\n",
    "\n",
    "newsgroups_train = fetch_20newsgroups(subset='train', remove=('headers', 'footers', 'quotes'))\n",
    "newsgroups_test = fetch_20newsgroups(subset='test', remove=('headers', 'footers', 'quotes'))\n",
    "\n",
    "vectorizer = TfidfVectorizer(stop_words=ENGLISH_STOP_WORDS).fit(newsgroups_train.data)\n",
    "X_train_vectors = vectorizer.transform(newsgroups_train.data)\n",
    "X_test_vectors = vectorizer.transform(newsgroups_test.data)\n",
    "\n",
    "clf = ComplementNB(alpha = 0.5).fit(X_train_vectors, newsgroups_train.target)\n",
    "predicts = clf.predict(X_test_vectors)\n",
    "print(classification_report(newsgroups_test.target, predicts,\n",
    "                            target_names=newsgroups_test.target_names, digits = 10))"
   ]
  },
  {
   "cell_type": "code",
   "execution_count": null,
   "metadata": {},
   "outputs": [],
   "source": []
  },
  {
   "cell_type": "code",
   "execution_count": null,
   "metadata": {},
   "outputs": [],
   "source": []
  },
  {
   "cell_type": "code",
   "execution_count": null,
   "metadata": {},
   "outputs": [],
   "source": []
  }
 ],
 "metadata": {
  "kernelspec": {
   "display_name": "Python 3",
   "language": "python",
   "name": "python3"
  },
  "language_info": {
   "codemirror_mode": {
    "name": "ipython",
    "version": 3
   },
   "file_extension": ".py",
   "mimetype": "text/x-python",
   "name": "python",
   "nbconvert_exporter": "python",
   "pygments_lexer": "ipython3",
   "version": "3.7.1"
  }
 },
 "nbformat": 4,
 "nbformat_minor": 2
}
